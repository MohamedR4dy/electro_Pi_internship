{
 "cells": [
  {
   "cell_type": "markdown",
   "id": "e2562972",
   "metadata": {},
   "source": [
    "## Number Guessing Game 🎯🔮\n",
    "\n",
    "**Description:** Embark on an exciting journey of prediction and strategy with the Number Guessing Game. This captivating Python program challenges players to predict a mysterious number concealed between 0 and 100. Guided by insightful feedback, players fine-tune their guesses and inch closer to unlocking the mystery. Whether a seasoned strategist or an aspiring mathematician, this game offers an engaging experience that sharpens your skills while having fun.\n",
    "\n",
    "**How It Works:**\n",
    "1. **Unveil the Mystery:** The game kicks off by generating a concealed number randomly selected from the range of 0 to 100.\n",
    "2. **Your Guess:** Players enter their guesses, attempting to uncover the enigmatic number.\n",
    "3. **Validation Check:** The game ensures precision, requesting valid numerical inputs. If a non-numeric entry is detected, players are gently reminded to enter a proper number.\n",
    "4. **Boundary Patrol:** If a guess exceeds the valid range, the game promptly alerts players to stay within bounds.\n",
    "5. **The Feedback Loop:**\n",
    "   - **Correct Guess:** A triumphant moment arrives when a player's guess matches the hidden number. The game's virtual applause celebrates their victory. 🎉🏆\n",
    "   - **First Attempt:** For the initial guess, an encouraging prompt motivates players to persist in their pursuit. 💪\n",
    "   - **Proximity Alert:** With each subsequent guess, the game's sage feedback highlights whether the new guess is getting closer or drifting further from the solution. 🔍\n",
    "6. **Masterful Revelation:** The game continues until the elusive number is accurately guessed, culminating in a victory worthy of celebration.\n",
    "\n",
    "**Objective:**\n",
    "The Number Guessing Game isn't just about predicting numbers; it's a mental workout that sharpens logical thinking, strategic planning, and the art of deduction. By interpreting feedback and adapting strategies, players hone their decision-making skills, fostering a deeper understanding of numerical relationships. Whether you're aiming for the bullseye or navigating the field of numbers, the game enriches your cognitive toolkit in a captivating and rewarding manner. Are you ready to embrace the challenge and unveil the hidden number? 🧠🔢"
   ]
  },
  {
   "cell_type": "code",
   "execution_count": 1,
   "id": "d10b9563",
   "metadata": {},
   "outputs": [],
   "source": [
    "import random"
   ]
  },
  {
   "cell_type": "code",
   "execution_count": 2,
   "id": "29441f61",
   "metadata": {},
   "outputs": [
    {
     "name": "stdout",
     "output_type": "stream",
     "text": [
      "Please Enter Your Guess: 60\n",
      "This is your first guess. Keep going!\n",
      "Please Enter Your Guess: 50\n",
      "You are getting closer.\n",
      "Please Enter Your Guess: 40\n",
      "You are getting closer.\n",
      "Please Enter Your Guess: 35\n",
      "You are getting further away.\n",
      "Please Enter Your Guess: 38\n",
      "You are getting closer.\n",
      "Please Enter Your Guess: 45\n",
      "You are getting closer.\n",
      "Please Enter Your Guess: 55\n",
      "You are getting further away.\n",
      "Please Enter Your Guess: 48\n",
      "You are getting closer.\n",
      "Please Enter Your Guess: 52\n",
      "You are getting further away.\n",
      "Please Enter Your Guess: 49\n",
      "You are getting closer.\n",
      "Please Enter Your Guess: 46\n",
      "You are getting closer.\n",
      "Please Enter Your Guess: 44\n",
      "You are getting closer.\n",
      "Please Enter Your Guess: 42\n",
      "You are getting closer.\n",
      "Please Enter Your Guess: 40\n",
      "You are getting further away.\n",
      "Please Enter Your Guess: 41\n",
      "You are getting closer.\n",
      "Please Enter Your Guess: 43\n",
      "Congratulations! You guessed the correct number in 16 attempts.\n"
     ]
    }
   ],
   "source": [
    "def play_number_guessing_game():\n",
    "    # Generate a random number between 0 and 100\n",
    "    actual = random.randint(0, 100)\n",
    "    guesses = []\n",
    "\n",
    "    while True:\n",
    "        try:\n",
    "            # Get user input for their guess\n",
    "            guess = int(input(\"Please Enter Your Guess: \"))\n",
    "        except ValueError:\n",
    "            # Handle non-integer input\n",
    "            print(\"You did not enter a number\")\n",
    "            continue\n",
    "        \n",
    "        if guess < 0 or guess > 100:\n",
    "            # Check if the guess is out of the valid range\n",
    "            print(\"Number out of range (0-100)\")\n",
    "            continue\n",
    "        \n",
    "        guesses.append(guess)\n",
    "        \n",
    "        if guess == actual:\n",
    "            # Correct guess: end the game and provide feedback\n",
    "            print(\"Congratulations! You guessed the correct number in\", len(guesses), \"attempts.\")\n",
    "            break\n",
    "        elif len(guesses) == 1:\n",
    "            # First guess: encourage the player to continue\n",
    "            print(\"This is your first guess. Keep going!\")\n",
    "        elif abs(guess - actual) > abs(guesses[-2] - actual):\n",
    "            # Guess is farther away from the actual number compared to the previous guess\n",
    "            print(\"You are getting further away.\")\n",
    "        else:\n",
    "            # Guess is closer to the actual number compared to the previous guess\n",
    "            print(\"You are getting closer.\")\n",
    "\n",
    "# Call the function directly to start the game\n",
    "play_number_guessing_game()\n"
   ]
  }
 ],
 "metadata": {
  "kernelspec": {
   "display_name": "Python 3 (ipykernel)",
   "language": "python",
   "name": "python3"
  },
  "language_info": {
   "codemirror_mode": {
    "name": "ipython",
    "version": 3
   },
   "file_extension": ".py",
   "mimetype": "text/x-python",
   "name": "python",
   "nbconvert_exporter": "python",
   "pygments_lexer": "ipython3",
   "version": "3.10.9"
  }
 },
 "nbformat": 4,
 "nbformat_minor": 5
}
