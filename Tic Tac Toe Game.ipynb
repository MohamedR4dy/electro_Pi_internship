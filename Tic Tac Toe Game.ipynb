{
 "cells": [
  {
   "cell_type": "markdown",
   "id": "00942fe2",
   "metadata": {},
   "source": [
    "## Capstone Project: Tic Tac Toe Game\n",
    "\n",
    "\n",
    "**Description:** 🎮 This project is all about creating a classic Tic Tac Toe game using Python, but with a twist - it's played right in your command line! No fancy graphics or GUI, just pure Python logic. The game revolves around players taking turns to enter their moves as text inputs. The project will focus on building the game's core mechanics using Python's fundamental data structures and control flow tools.\n",
    "\n",
    "**Key Steps:** \n",
    "1. **Designing the Game Board:** Start by creating a 3x3 grid using a list of lists, representing empty squares with strings. \n",
    "2. **Printing the Board:** Design a function to display the game board on the console. This function will loop through the board's rows and columns, printing each square in its correct position.\n",
    "3. **Handling Player Moves:** Implement a function that takes player inputs and updates the board accordingly.\n",
    "4. **Checking for Wins:** Develop a function that examines the board to detect if a player has three in a row either horizontally, vertically, or diagonally.\n",
    "5. **Checking for a Tie:** Create a function to determine if the game ends in a tie.\n",
    "6. **Main Game Loop:** Set up a loop where players take turns. Each iteration should show the current board state, gather the next player's move, and assess whether the game ends.\n",
    "7. **Testing and Debugging:** Play the game to ensure it functions correctly. Troubleshoot any hiccups that arise during testing.\n",
    "\n",
    "Tic Tac Toe is played on a 3x3 grid where players aim to align three of their symbols (X or O) either horizontally, vertically, or diagonally. The game concludes with a win, a tie if the board fills up, or when one player gets three in a row.\n",
    "\n",
    "\n",
    "**Objective:**\n",
    "With the Capstone Project: Tic Tac Toe, you'll take your Python skills to the next level by delving into game development and logic-based programming. This project encapsulates the excitement of strategy, decision-making, and coding finesse. By the end, you'll have created a fully functional Tic Tac Toe game that showcases your proficiency in Python's programming principles. Embrace the challenge and relive the excitement of this timeless game, all within your command-line interface! 🕹️🔥"
   ]
  },
  {
   "cell_type": "markdown",
   "id": "405019fd",
   "metadata": {},
   "source": [
    "### Initialize the game board as a 3x3 list."
   ]
  },
  {
   "cell_type": "code",
   "execution_count": 1,
   "id": "98244fe0",
   "metadata": {},
   "outputs": [],
   "source": [
    "board = [[\"\", \"\", \"\"],\n",
    "         [\"\", \"\", \"\"],\n",
    "         [\"\", \"\", \"\"]]"
   ]
  },
  {
   "cell_type": "markdown",
   "id": "9d9081e3",
   "metadata": {},
   "source": [
    "### Function to print the current state of the game board."
   ]
  },
  {
   "cell_type": "code",
   "execution_count": 2,
   "id": "0dbee89e",
   "metadata": {},
   "outputs": [],
   "source": [
    "def print_board(board):\n",
    "    for row in board:\n",
    "        print(\" | \".join(row))\n",
    "        print(\"-\" * 9)"
   ]
  },
  {
   "cell_type": "markdown",
   "id": "cf766c6b",
   "metadata": {},
   "source": [
    "### Function to handle a player's move.\n"
   ]
  },
  {
   "cell_type": "code",
   "execution_count": 3,
   "id": "e7e4bc89",
   "metadata": {},
   "outputs": [],
   "source": [
    "def make_move(board, player):\n",
    "    row = int(input(\"Enter row (0, 1, or 2): \"))\n",
    "    col = int(input(\"Enter column (0, 1, or 2): \"))\n",
    "    # Check if the chosen square is empty\n",
    "    if board[row][col] == \"\":\n",
    "        board[row][col] = player\n",
    "        return True\n",
    "    else:\n",
    "        print(\"Invalid move. Square already occupied.\")\n",
    "        return False\n"
   ]
  },
  {
   "cell_type": "markdown",
   "id": "886fd1e1",
   "metadata": {},
   "source": [
    "### Function to check if a player has won.\n"
   ]
  },
  {
   "cell_type": "code",
   "execution_count": 4,
   "id": "cb27437e",
   "metadata": {},
   "outputs": [],
   "source": [
    "def check_win(board, player):\n",
    "     # Check rows and columns for three symbols in a row\n",
    "    for row in board:\n",
    "        if all(square == player for square in row):\n",
    "            return True\n",
    "    for col in range(3):\n",
    "        if all(board[row][col] == player for row in range(3)):\n",
    "            return True\n",
    "        # Check diagonals for three symbols in a row\n",
    "    if all(board[i][i] == player for i in range(3)) or all(board[i][2-i] == player for i in range(3)):\n",
    "        return True\n",
    "    return False\n"
   ]
  },
  {
   "cell_type": "markdown",
   "id": "e9bd0cb8",
   "metadata": {},
   "source": [
    "### Function to check if the game is a tie.\n"
   ]
  },
  {
   "cell_type": "code",
   "execution_count": 5,
   "id": "c8212015",
   "metadata": {},
   "outputs": [],
   "source": [
    "def check_tie(board):\n",
    "    return all(square != \"\" for row in board for square in row)"
   ]
  },
  {
   "cell_type": "markdown",
   "id": "29e14a65",
   "metadata": {},
   "source": [
    "### Main game loop."
   ]
  },
  {
   "cell_type": "code",
   "execution_count": null,
   "id": "7c54b6cd",
   "metadata": {},
   "outputs": [
    {
     "name": "stdout",
     "output_type": "stream",
     "text": [
      " |  | \n",
      "---------\n",
      " |  | \n",
      "---------\n",
      " |  | \n",
      "---------\n",
      "Player X's turn:\n",
      "Enter row (0, 1, or 2): 2\n",
      "Enter column (0, 1, or 2): 2\n",
      " |  | \n",
      "---------\n",
      " |  | \n",
      "---------\n",
      " |  | X\n",
      "---------\n",
      "Player O's turn:\n",
      "Enter row (0, 1, or 2): 0\n",
      "Enter column (0, 1, or 2): 2\n",
      " |  | O\n",
      "---------\n",
      " |  | \n",
      "---------\n",
      " |  | X\n",
      "---------\n",
      "Player X's turn:\n",
      "Enter row (0, 1, or 2): 1\n",
      "Enter column (0, 1, or 2): 1\n",
      " |  | O\n",
      "---------\n",
      " | X | \n",
      "---------\n",
      " |  | X\n",
      "---------\n",
      "Player O's turn:\n"
     ]
    }
   ],
   "source": [
    "def main():\n",
    "    board = [[\"\", \"\", \"\"], [\"\", \"\", \"\"], [\"\", \"\", \"\"]]\n",
    "    players = [\"X\", \"O\"]\n",
    "    current_player = 0\n",
    "\n",
    "    while True:\n",
    "        print_board(board)\n",
    "        player = players[current_player]\n",
    "        print(f\"Player {player}'s turn:\")\n",
    "        # Keep prompting for a move until a valid move is made\n",
    "        while not make_move(board, player):\n",
    "            pass  \n",
    "        # Check if the player has won or the game is a tie\n",
    "        if check_win(board, player):\n",
    "            print_board(board)\n",
    "            print(f\"Player {player} wins!\")\n",
    "            break\n",
    "        elif check_tie(board):\n",
    "            print_board(board)\n",
    "            print(\"It's a tie!\")\n",
    "            break\n",
    "        current_player = 1 - current_player  # Switch players\n",
    "\n",
    "# Start the game if this script is run directly\n",
    "if __name__ == \"__main__\":\n",
    "    main()\n"
   ]
  }
 ],
 "metadata": {
  "kernelspec": {
   "display_name": "Python 3 (ipykernel)",
   "language": "python",
   "name": "python3"
  },
  "language_info": {
   "codemirror_mode": {
    "name": "ipython",
    "version": 3
   },
   "file_extension": ".py",
   "mimetype": "text/x-python",
   "name": "python",
   "nbconvert_exporter": "python",
   "pygments_lexer": "ipython3",
   "version": "3.10.9"
  }
 },
 "nbformat": 4,
 "nbformat_minor": 5
}
