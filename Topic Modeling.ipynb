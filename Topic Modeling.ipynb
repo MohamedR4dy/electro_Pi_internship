{
 "cells": [
  {
   "cell_type": "markdown",
   "id": "e215f77f",
   "metadata": {},
   "source": [
    "## Word Classifier: Sports vs Food\n",
    "\n",
    "**Description:** 🏀🍔 This project presents a word classifier that determines whether a given sentence is more related to sports or food. The idea is to analyze the words in the input sentence and count how many words are associated with sports and how many are associated with food. Based on the counts, the script decides whether the sentence leans towards sports, food, or remains neutral.\n",
    "\n",
    "**How it works:** \n",
    "1. The project defines a dictionary containing lists of words related to sports and food.\n",
    "2. Users provide sentences to be analyzed.\n",
    "3. The script splits the sentences into individual words and checks each word against the lists of sport and food words.\n",
    "4. It keeps track of the counts of sport-related and food-related words.\n",
    "5. Finally, the script compares the counts and prints whether each sentence is more related to sports, food, or neutral.\n",
    "\n",
    "It's a fun and simple demonstration of basic text classification using predefined word lists. Try it out and see how your sentences are classified! 🎾🍕"
   ]
  },
  {
   "cell_type": "code",
   "execution_count": 1,
   "id": "917dafcc",
   "metadata": {},
   "outputs": [],
   "source": [
    "word_polarity = {\n",
    "    \"sport\" : [# List of sport-related words\n",
    "        \"football\",\"stadium\",\"ball\",\"Basketball\", \"Soccer\", \"Baseball\", \"Volleyball\", \"Rugby\", \"Cricket\",\n",
    "    \"Hockey\", \"American Football\", \"Lacrosse\", \"Water Polo\",\n",
    "    \"Tennis\", \"Golf\", \"Swimming\", \"Running\", \"Cycling\", \"Wrestling\",\n",
    "    \"Boxing\", \"Karate\", \"Judo\", \"Taekwondo\", \"Gymnastics\",\n",
    "    \"Figure Skating\", \"Alpine Skiing\", \"Cross-Country Skiing\",\n",
    "    \"Snowboarding\", \"Surfing\", \"Horseback Riding\", \"Show Jumping\",\n",
    "    \"Archery\", \"Fencing\", \"Table Tennis\", \"Badminton\",\n",
    "    \"Rock Climbing\", \"Bungee Jumping\", \"Skydiving\", \"Rafting\",\n",
    "    \"Kayaking\", \"Mountain Biking\", \"Paragliding\",\n",
    "    \"Formula 1 Racing\", \"NASCAR Racing\", \"MotoGP Racing\", \"Horse Racing\", \"Drag Racing\",\n",
    "    \"Yoga\", \"Pilates\", \"CrossFit\"],\n",
    "    \n",
    "    \"food\" : [# List of food-related words\n",
    "    \"Apple\", \"Banana\", \"Orange\", \"Grapes\", \"Strawberry\", \"Blueberry\",\n",
    "    \"Pineapple\", \"Watermelon\", \"Mango\", \"Peach\", \"Pear\", \"Cherry\",\n",
    "    \"Lemon\", \"Lime\", \"Kiwi\", \"Raspberry\", \"Blackberry\", \"Avocado\",\n",
    "    \"Tomato\", \"Potato\", \"Carrot\", \"Broccoli\", \"Cauliflower\", \"Spinach\",\n",
    "    \"Lettuce\", \"Cucumber\", \"Bell Pepper\", \"Onion\", \"Garlic\", \"Ginger\",\n",
    "    \"Mushroom\", \"Eggplant\", \"Zucchini\", \"Pumpkin\", \"Sweet Potato\",\n",
    "    \"Rice\", \"Pasta\", \"Bread\", \"Bagel\", \"Croissant\", \"Pancake\",\n",
    "    \"Waffle\", \"Oatmeal\", \"Cereal\", \"Yogurt\", \"Cheese\", \"Milk\", \"Butter\",\n",
    "    \"Egg\", \"Bacon\"]\n",
    "    \n",
    "}"
   ]
  },
  {
   "cell_type": "code",
   "execution_count": 2,
   "id": "213cf6b9",
   "metadata": {},
   "outputs": [
    {
     "name": "stdout",
     "output_type": "stream",
     "text": [
      "Enter a sentence please: I want to play football today at 9 am\n",
      "sport\n"
     ]
    }
   ],
   "source": [
    "# Ask the user for input\n",
    "sentence = input(\"Enter a sentence please: \")\n",
    "\n",
    "# Initialize counters for sport-related and food-related words\n",
    "food_count = 0\n",
    "sport_count = 0\n",
    "\n",
    "for word in sentence.split():\n",
    "    # Check if the word is in the list of sport-related words\n",
    "    if word in word_polarity['sport']:\n",
    "        sport_count += 1\n",
    "     # Check if the word is in the list of food-related words   \n",
    "    elif word in word_polarity['food']:\n",
    "        food_count += 1\n",
    "        \n",
    "if sport_count > food_count:\n",
    "    print(\"sport\") # If there are more sport-related words, print \"sport\"\n",
    "elif food_count > sport_count:\n",
    "    print(\"food\") # If there are more food-related words, print \"food\"\n",
    "else:\n",
    "    print(\"neutral\") # If counts are equal or no relevant words, print \"neutral\""
   ]
  }
 ],
 "metadata": {
  "kernelspec": {
   "display_name": "Python 3 (ipykernel)",
   "language": "python",
   "name": "python3"
  },
  "language_info": {
   "codemirror_mode": {
    "name": "ipython",
    "version": 3
   },
   "file_extension": ".py",
   "mimetype": "text/x-python",
   "name": "python",
   "nbconvert_exporter": "python",
   "pygments_lexer": "ipython3",
   "version": "3.10.9"
  }
 },
 "nbformat": 4,
 "nbformat_minor": 5
}
